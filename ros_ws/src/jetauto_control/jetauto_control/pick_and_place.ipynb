{
 "cells": [
  {
   "cell_type": "code",
   "execution_count": 1,
   "metadata": {},
   "outputs": [],
   "source": [
    "import json\n",
    "import numpy as np\n",
    "import requests\n",
    "import ipywidgets as widgets"
   ]
  },
  {
   "cell_type": "code",
   "execution_count": 2,
   "metadata": {},
   "outputs": [],
   "source": [
    "host = '192.168.64.2'"
   ]
  },
  {
   "cell_type": "code",
   "execution_count": 3,
   "metadata": {},
   "outputs": [],
   "source": [
    "def create_float_slider(description, value, min, max):\n",
    "    return widgets.FloatSlider(\n",
    "        value=value,\n",
    "        min=min,\n",
    "        max=max,\n",
    "        step=0.1,\n",
    "        description=description,\n",
    "        disabled=False,\n",
    "        continuous_update=False,\n",
    "        orientation='horizontal',\n",
    "        readout=True,\n",
    "        readout_format='.1f',\n",
    "    )"
   ]
  },
  {
   "cell_type": "code",
   "execution_count": 4,
   "metadata": {},
   "outputs": [],
   "source": [
    "def control_car(linear, angular):\n",
    "    data = {\n",
    "        'linear': linear,\n",
    "        'angular': angular\n",
    "    }\n",
    "    headers = {\"Content-Type\": \"application/json\"}\n",
    "    return requests.put(f'http://{host}:5000/jetauto_car',\n",
    "                        headers=headers,\n",
    "                        data=json.dumps(data)).json()"
   ]
  },
  {
   "cell_type": "code",
   "execution_count": 5,
   "metadata": {},
   "outputs": [],
   "source": [
    "def control_arm(joint1, joint2, joint3, joint4, r_joint):\n",
    "    data = {\n",
    "        'joint1': joint1,\n",
    "        'joint2': joint2,\n",
    "        'joint3': joint3,\n",
    "        'joint4': joint4,\n",
    "        'r_joint': r_joint,\n",
    "    }\n",
    "    headers = {\"Content-Type\": \"application/json\"}\n",
    "    return requests.put(f'http://{host}:5000/jetauto_arm',\n",
    "                        headers=headers,\n",
    "                        data=json.dumps(data)).json()"
   ]
  },
  {
   "cell_type": "code",
   "execution_count": 6,
   "metadata": {},
   "outputs": [],
   "source": [
    "linear = create_float_slider('Linear:', 0, -1, 1)\n",
    "angular = create_float_slider('Angular:', 0, -1, 1)\n",
    "\n",
    "def on_car_value_change(_):\n",
    "    control_car(linear.value, angular.value)\n",
    "\n",
    "linear.observe(on_car_value_change, names='value')\n",
    "angular.observe(on_car_value_change, names='value')"
   ]
  },
  {
   "cell_type": "code",
   "execution_count": 7,
   "metadata": {},
   "outputs": [],
   "source": [
    "joint1 = create_float_slider('Joint1:', -np.pi / 2, -np.pi, 0)\n",
    "joint2 = create_float_slider('Joint2:', -np.pi / 6, -np.pi / 6 - np.pi / 2, -np.pi / 6 + np.pi / 2)\n",
    "joint3 = create_float_slider('Joint3:', -np.pi / 6, -np.pi / 6 - np.pi / 2, -np.pi / 6 + np.pi / 2)\n",
    "joint4 = create_float_slider('Joint4:', -np.pi / 6, -np.pi / 6 - np.pi / 2, -np.pi / 6 + np.pi / 2)\n",
    "r_joint = create_float_slider('RJoint:', -np.pi / 4, -np.pi / 4 - np.pi / 2, -np.pi / 4 + np.pi / 2)\n",
    "\n",
    "def on_arm_value_change(_):\n",
    "    control_arm(joint1.value,\n",
    "                joint2.value,\n",
    "                joint3.value,\n",
    "                joint4.value,\n",
    "                r_joint.value)\n",
    "\n",
    "joint1.observe(on_arm_value_change, names='value')\n",
    "joint2.observe(on_arm_value_change, names='value')\n",
    "joint3.observe(on_arm_value_change, names='value')\n",
    "joint4.observe(on_arm_value_change, names='value')\n",
    "r_joint.observe(on_arm_value_change, names='value')"
   ]
  },
  {
   "cell_type": "code",
   "execution_count": 8,
   "metadata": {},
   "outputs": [
    {
     "data": {
      "application/vnd.jupyter.widget-view+json": {
       "model_id": "c9532ace2f6c4e758832f38495e6022e",
       "version_major": 2,
       "version_minor": 0
      },
      "text/plain": [
       "FloatSlider(value=0.0, continuous_update=False, description='Linear:', max=1.0, min=-1.0, readout_format='.1f'…"
      ]
     },
     "metadata": {},
     "output_type": "display_data"
    },
    {
     "data": {
      "application/vnd.jupyter.widget-view+json": {
       "model_id": "b7b0a39791d844d1b5961f6411a67080",
       "version_major": 2,
       "version_minor": 0
      },
      "text/plain": [
       "FloatSlider(value=0.0, continuous_update=False, description='Angular:', max=1.0, min=-1.0, readout_format='.1f…"
      ]
     },
     "metadata": {},
     "output_type": "display_data"
    },
    {
     "data": {
      "application/vnd.jupyter.widget-view+json": {
       "model_id": "8a2d548682e7462793435710ef2235a4",
       "version_major": 2,
       "version_minor": 0
      },
      "text/plain": [
       "FloatSlider(value=-1.5707963267948966, continuous_update=False, description='Joint1:', max=0.0, min=-3.1415926…"
      ]
     },
     "metadata": {},
     "output_type": "display_data"
    },
    {
     "data": {
      "application/vnd.jupyter.widget-view+json": {
       "model_id": "9c0008cf372e406198c757511659e3a5",
       "version_major": 2,
       "version_minor": 0
      },
      "text/plain": [
       "FloatSlider(value=-0.5235987755982988, continuous_update=False, description='Joint2:', max=1.0471975511965979,…"
      ]
     },
     "metadata": {},
     "output_type": "display_data"
    },
    {
     "data": {
      "application/vnd.jupyter.widget-view+json": {
       "model_id": "6b0fe5b12a73430e9846a187019ca073",
       "version_major": 2,
       "version_minor": 0
      },
      "text/plain": [
       "FloatSlider(value=-0.5235987755982988, continuous_update=False, description='Joint3:', max=1.0471975511965979,…"
      ]
     },
     "metadata": {},
     "output_type": "display_data"
    },
    {
     "data": {
      "application/vnd.jupyter.widget-view+json": {
       "model_id": "26d87fadbb6e49af80ef748ee54ad8c6",
       "version_major": 2,
       "version_minor": 0
      },
      "text/plain": [
       "FloatSlider(value=-0.5235987755982988, continuous_update=False, description='Joint4:', max=1.0471975511965979,…"
      ]
     },
     "metadata": {},
     "output_type": "display_data"
    },
    {
     "data": {
      "application/vnd.jupyter.widget-view+json": {
       "model_id": "9b25e6211b11421484a62fd2515b5080",
       "version_major": 2,
       "version_minor": 0
      },
      "text/plain": [
       "FloatSlider(value=-0.7853981633974483, continuous_update=False, description='RJoint:', max=0.7853981633974483,…"
      ]
     },
     "metadata": {},
     "output_type": "display_data"
    }
   ],
   "source": [
    "display(linear)\n",
    "display(angular)\n",
    "\n",
    "display(joint1)  # -1.6\n",
    "display(joint2)  # -1.4\n",
    "display(joint3)  # -0.8\n",
    "display(joint4)  # -0.7\n",
    "display(r_joint) # -1.1"
   ]
  },
  {
   "cell_type": "markdown",
   "metadata": {},
   "source": []
  },
  {
   "cell_type": "code",
   "execution_count": null,
   "metadata": {},
   "outputs": [],
   "source": []
  }
 ],
 "metadata": {
  "kernelspec": {
   "display_name": "Python 3",
   "language": "python",
   "name": "python3"
  },
  "language_info": {
   "codemirror_mode": {
    "name": "ipython",
    "version": 3
   },
   "file_extension": ".py",
   "mimetype": "text/x-python",
   "name": "python",
   "nbconvert_exporter": "python",
   "pygments_lexer": "ipython3",
   "version": "3.9.18"
  }
 },
 "nbformat": 4,
 "nbformat_minor": 2
}
